{
 "cells": [
  {
   "cell_type": "code",
   "execution_count": 1,
   "metadata": {},
   "outputs": [],
   "source": [
    "import sys\n",
    "\n",
    "sys.path.append(\"../pipeline\")\n",
    "\n",
    "import polars as pl\n",
    "\n",
    "from pipeline import Reader"
   ]
  },
  {
   "cell_type": "code",
   "execution_count": 2,
   "metadata": {},
   "outputs": [
    {
     "data": {
      "text/html": [
       "<div><style>\n",
       ".dataframe > thead > tr,\n",
       ".dataframe > tbody > tr {\n",
       "  text-align: right;\n",
       "  white-space: pre-wrap;\n",
       "}\n",
       "</style>\n",
       "<small>shape: (5, 6)</small><table border=\"1\" class=\"dataframe\"><thead><tr><th>DATE</th><th>ID</th><th>VALUE1</th><th>VALUE2</th><th>LAT</th><th>LONG</th></tr><tr><td>str</td><td>str</td><td>str</td><td>str</td><td>str</td><td>str</td></tr></thead><tbody><tr><td>&quot;2024/1/1&quot;</td><td>&quot;1&quot;</td><td>&quot;100&quot;</td><td>&quot;90&quot;</td><td>&quot;35.6814279&quot;</td><td>&quot;139.7671784&quot;</td></tr><tr><td>&quot;2024/1/1&quot;</td><td>&quot;2&quot;</td><td>&quot;200&quot;</td><td>&quot;80&quot;</td><td>&quot;35.7140332&quot;</td><td>&quot;139.7770907&quot;</td></tr><tr><td>&quot;2024/1/1&quot;</td><td>&quot;3&quot;</td><td>&quot;300&quot;</td><td>&quot;70&quot;</td><td>&quot;35.68964035&quot;</td><td>&quot;139.7005604&quot;</td></tr><tr><td>&quot;2024/1/2&quot;</td><td>&quot;1&quot;</td><td>&quot;200&quot;</td><td>&quot;80&quot;</td><td>&quot;35.6814279&quot;</td><td>&quot;139.7671784&quot;</td></tr><tr><td>&quot;2024/1/2&quot;</td><td>&quot;2&quot;</td><td>&quot;300&quot;</td><td>&quot;70&quot;</td><td>&quot;35.7140332&quot;</td><td>&quot;139.7770907&quot;</td></tr></tbody></table></div>"
      ],
      "text/plain": [
       "shape: (5, 6)\n",
       "┌──────────┬─────┬────────┬────────┬─────────────┬─────────────┐\n",
       "│ DATE     ┆ ID  ┆ VALUE1 ┆ VALUE2 ┆ LAT         ┆ LONG        │\n",
       "│ ---      ┆ --- ┆ ---    ┆ ---    ┆ ---         ┆ ---         │\n",
       "│ str      ┆ str ┆ str    ┆ str    ┆ str         ┆ str         │\n",
       "╞══════════╪═════╪════════╪════════╪═════════════╪═════════════╡\n",
       "│ 2024/1/1 ┆ 1   ┆ 100    ┆ 90     ┆ 35.6814279  ┆ 139.7671784 │\n",
       "│ 2024/1/1 ┆ 2   ┆ 200    ┆ 80     ┆ 35.7140332  ┆ 139.7770907 │\n",
       "│ 2024/1/1 ┆ 3   ┆ 300    ┆ 70     ┆ 35.68964035 ┆ 139.7005604 │\n",
       "│ 2024/1/2 ┆ 1   ┆ 200    ┆ 80     ┆ 35.6814279  ┆ 139.7671784 │\n",
       "│ 2024/1/2 ┆ 2   ┆ 300    ┆ 70     ┆ 35.7140332  ┆ 139.7770907 │\n",
       "└──────────┴─────┴────────┴────────┴─────────────┴─────────────┘"
      ]
     },
     "execution_count": 2,
     "metadata": {},
     "output_type": "execute_result"
    }
   ],
   "source": [
    "Reader.read_csv(\"../model/sample.csv\").head()"
   ]
  },
  {
   "cell_type": "code",
   "execution_count": 3,
   "metadata": {},
   "outputs": [
    {
     "data": {
      "text/html": [
       "<div><style>\n",
       ".dataframe > thead > tr,\n",
       ".dataframe > tbody > tr {\n",
       "  text-align: right;\n",
       "  white-space: pre-wrap;\n",
       "}\n",
       "</style>\n",
       "<small>shape: (1, 7)</small><table border=\"1\" class=\"dataframe\"><thead><tr><th>DATE</th><th>ID</th><th>VALUE1</th><th>VALUE2</th><th>LAT</th><th>LONG</th><th>テスト</th></tr><tr><td>str</td><td>str</td><td>str</td><td>str</td><td>str</td><td>str</td><td>str</td></tr></thead><tbody><tr><td>&quot;2024/1/1&quot;</td><td>&quot;1&quot;</td><td>&quot;100&quot;</td><td>&quot;90&quot;</td><td>&quot;35.6814279&quot;</td><td>&quot;139.7671784&quot;</td><td>&quot;ああああ&quot;</td></tr></tbody></table></div>"
      ],
      "text/plain": [
       "shape: (1, 7)\n",
       "┌──────────┬─────┬────────┬────────┬────────────┬─────────────┬──────────┐\n",
       "│ DATE     ┆ ID  ┆ VALUE1 ┆ VALUE2 ┆ LAT        ┆ LONG        ┆ テスト   │\n",
       "│ ---      ┆ --- ┆ ---    ┆ ---    ┆ ---        ┆ ---         ┆ ---      │\n",
       "│ str      ┆ str ┆ str    ┆ str    ┆ str        ┆ str         ┆ str      │\n",
       "╞══════════╪═════╪════════╪════════╪════════════╪═════════════╪══════════╡\n",
       "│ 2024/1/1 ┆ 1   ┆ 100    ┆ 90     ┆ 35.6814279 ┆ 139.7671784 ┆ ああああ │\n",
       "└──────────┴─────┴────────┴────────┴────────────┴─────────────┴──────────┘"
      ]
     },
     "execution_count": 3,
     "metadata": {},
     "output_type": "execute_result"
    }
   ],
   "source": [
    "df = pl.read_csv(\"../model/sample.csv\", encoding=\"cp932\", infer_schema_length=0)\n",
    "df = df.with_columns([pl.lit(\"ああああ\").alias(\"テスト\")])\n",
    "df.head(1)"
   ]
  },
  {
   "cell_type": "code",
   "execution_count": 4,
   "metadata": {},
   "outputs": [],
   "source": [
    "# df.write_csv(\"../output/sample.csv\", include_bom=True)"
   ]
  },
  {
   "cell_type": "code",
   "execution_count": 5,
   "metadata": {},
   "outputs": [],
   "source": [
    "# df = pl.read_excel(\"../input/sample.xlsx\", read_options={\"skip_rows\": 5, \"infer_schema_length\": 0})\n",
    "# df.head(1)"
   ]
  },
  {
   "cell_type": "code",
   "execution_count": 6,
   "metadata": {},
   "outputs": [],
   "source": [
    "# df.write_csv(\"../output/sample.csv\", include_bom=True)"
   ]
  },
  {
   "cell_type": "code",
   "execution_count": null,
   "metadata": {},
   "outputs": [],
   "source": []
  }
 ],
 "metadata": {
  "kernelspec": {
   "display_name": "myenv",
   "language": "python",
   "name": "python3"
  },
  "language_info": {
   "codemirror_mode": {
    "name": "ipython",
    "version": 3
   },
   "file_extension": ".py",
   "mimetype": "text/x-python",
   "name": "python",
   "nbconvert_exporter": "python",
   "pygments_lexer": "ipython3",
   "version": "3.11.6"
  }
 },
 "nbformat": 4,
 "nbformat_minor": 2
}
